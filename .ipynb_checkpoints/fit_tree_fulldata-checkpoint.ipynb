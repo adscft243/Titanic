{
 "cells": [
  {
   "cell_type": "code",
   "execution_count": 1,
   "id": "e2bd3ab2-f163-4da6-9fd4-fe21243404e0",
   "metadata": {},
   "outputs": [],
   "source": [
    "import pandas as pd\n",
    "import numpy as np\n",
    "import matplotlib.pyplot as plt\n",
    "from sklearn import tree\n",
    "from sklearn import preprocessing"
   ]
  },
  {
   "cell_type": "code",
   "execution_count": 2,
   "id": "1c5b3c97-d7ec-4340-a68f-e4d41fa63c9f",
   "metadata": {},
   "outputs": [],
   "source": [
    "dt = pd.read_csv('titanic-data.csv')"
   ]
  },
  {
   "cell_type": "code",
   "execution_count": 3,
   "id": "4838f940-20f6-4c39-a4f0-2f14467bc54e",
   "metadata": {},
   "outputs": [],
   "source": [
    "def impute_age(Pclass, age):\n",
    "    \n",
    "    if np.isnan(age):\n",
    "        \n",
    "        if Pclass == 1:\n",
    "\n",
    "            return 37\n",
    "\n",
    "        elif Pclass == 2:\n",
    "\n",
    "            return 29\n",
    "\n",
    "        elif Pclass == 3:\n",
    "\n",
    "            return 24\n",
    "        \n",
    "    else:\n",
    "        \n",
    "        return age"
   ]
  },
  {
   "cell_type": "code",
   "execution_count": 4,
   "id": "34623bc3-f450-421a-bd4b-89902d301ec7",
   "metadata": {},
   "outputs": [],
   "source": [
    "def modify_data(data):\n",
    "    \n",
    "    AgeImputed = []\n",
    "    data = data.copy()\n",
    "    \n",
    "    for i in range(0, data.shape[0]):\n",
    "    \n",
    "        AgeImputed.append(impute_age(data['pclass'].iloc[i], data['age'].iloc[i]))\n",
    "    \n",
    "    data['age'] = AgeImputed\n",
    "    data['ageBin'] = data['age'].apply(lambda x: 0 if x <= 6 else 1)\n",
    "    data['nRelatives'] = data['sibsp'] + data[\"parch\"]\n",
    "    data['hasRelatives'] = data['nRelatives'].apply(lambda x: 1 if x > 0  else 0)\n",
    "    data['sex'] = data['sex'].apply(lambda x: 1 if x == 'male' else 0)\n",
    "    data['fareOverHundred'] = data['fare']/100 # Need to scale the values.\n",
    "    \n",
    "    # Construct dummy variables out of categorical variables.\n",
    "    embarked = pd.get_dummies(data['embarked'], prefix = 'embarked', drop_first = True)\n",
    "    pclass = pd.get_dummies(data['pclass'], prefix = 'pclass', drop_first = True)\n",
    "    data['embarked_Q'] = embarked['embarked_Q']\n",
    "    data['embarked_S'] = embarked['embarked_S']\n",
    "    data['pclass_2'] = pclass['pclass_2.0']\n",
    "    data['pclass_3'] = pclass['pclass_3.0'] \n",
    "    \n",
    "    D = {'S': 1, 'C': 2, 'Q': 3}\n",
    "    data['embarkedCat'] = data['embarked'].map(D)\n",
    "    data = data.drop(columns = ['name', 'ticket', 'cabin'])\n",
    "    \n",
    "    return data"
   ]
  },
  {
   "cell_type": "code",
   "execution_count": 5,
   "id": "a1d88cfd-e04c-4fc4-9105-73d683145ef7",
   "metadata": {},
   "outputs": [],
   "source": [
    "dtmod = modify_data(dt)"
   ]
  },
  {
   "cell_type": "code",
   "execution_count": 6,
   "id": "b88a0fce-d5cd-4b06-82db-4d3907b4b688",
   "metadata": {},
   "outputs": [],
   "source": [
    "import random\n",
    "random.seed(10)"
   ]
  },
  {
   "cell_type": "markdown",
   "id": "20e31156-2530-49a4-9df0-bd1504650ec9",
   "metadata": {},
   "source": [
    "### Set 1"
   ]
  },
  {
   "cell_type": "code",
   "execution_count": 7,
   "id": "ef7f5e09-f3b9-435a-bd48-6dd05a9cf429",
   "metadata": {},
   "outputs": [],
   "source": [
    "ntrials = 1000\n",
    "train_accuracy_ = []\n",
    "test_accuracy_ = []\n",
    "variables = ['survived', 'ageBin', 'fareOverHundred', 'sex', 'sibsp', 'parch', 'embarked_Q', 'embarked_S', 'pclass_2', 'pclass_3']\n",
    "regressors = list(set(variables) - set(['survived']))\n",
    "\n",
    "for i in range(ntrials):\n",
    "    \n",
    "    train = dtmod.sample(1000)\n",
    "    test = dtmod.sample(dtmod.shape[0] - 1000)\n",
    "    \n",
    "    train = train[variables].dropna()\n",
    "    y = train['survived']\n",
    "    X = np.array(train[regressors])\n",
    "    clf = tree.DecisionTreeClassifier(ccp_alpha = 0, criterion = 'entropy', max_depth=5)\n",
    "    clf.fit(X, y)\n",
    "    train_accuracy_.append(clf.score(X, y))\n",
    "    \n",
    "    test = test[variables].dropna()\n",
    "    Xtest = np.array(test[regressors])\n",
    "    pred = clf.predict(Xtest)\n",
    "    \n",
    "    test['pred'] = pred\n",
    "    test_accuracy_.append(sum(test['survived'] == test['pred'])/test.shape[0])"
   ]
  },
  {
   "cell_type": "code",
   "execution_count": 8,
   "id": "8b3af574-3256-4a1d-b396-dd11c21fcb7a",
   "metadata": {},
   "outputs": [
    {
     "data": {
      "image/png": "[encoded data removed]",
      "text/plain": [
       "<Figure size 432x288 with 1 Axes>"
      ]
     },
     "metadata": {
      "needs_background": "light"
     },
     "output_type": "display_data"
    }
   ],
   "source": [
    "plt.figure()\n",
    "plt.hist(train_accuracy_, label = 'Train', alpha=0.5)\n",
    "plt.hist(test_accuracy_, label = 'Test', alpha=0.5)\n",
    "plt.legend()\n",
    "plt.show()"
   ]
  },
  {
   "cell_type": "code",
   "execution_count": 9,
   "id": "cbe5d794-8109-4729-b54e-2b22292d8119",
   "metadata": {},
   "outputs": [
    {
     "name": "stdout",
     "output_type": "stream",
     "text": [
      "0.8233715152186255 0.8182800543803205\n"
     ]
    }
   ],
   "source": [
    "print(np.mean(train_accuracy_), np.mean(test_accuracy_))"
   ]
  },
  {
   "cell_type": "markdown",
   "id": "8d9e15a8-1d57-4806-bcfc-b602b9f604dd",
   "metadata": {},
   "source": [
    "### Set 2"
   ]
  },
  {
   "cell_type": "code",
   "execution_count": 10,
   "id": "6045d6c3-932a-477f-b739-e0b4a5eb8035",
   "metadata": {},
   "outputs": [],
   "source": [
    "ntrials = 1000\n",
    "train_accuracy_ = []\n",
    "test_accuracy_ = []\n",
    "variables = ['survived', 'ageBin', 'fareOverHundred', 'sex', 'nRelatives', 'embarked_Q', 'embarked_S', 'pclass_2', 'pclass_3']\n",
    "regressors = list(set(variables) - set(['survived']))\n",
    "\n",
    "for i in range(ntrials):\n",
    "    \n",
    "    train = dtmod.sample(1000)\n",
    "    test = dtmod.sample(dtmod.shape[0] - 1000)\n",
    "    \n",
    "    train = train[variables].dropna()\n",
    "    y = train['survived']\n",
    "    X = np.array(train[regressors])\n",
    "    clf = tree.DecisionTreeClassifier(ccp_alpha = 0, criterion = 'entropy', max_depth=5)\n",
    "    clf.fit(X, y)\n",
    "    train_accuracy_.append(clf.score(X, y))\n",
    "    \n",
    "    test = test[variables].dropna()\n",
    "    Xtest = np.array(test[regressors])\n",
    "    pred = clf.predict(Xtest)\n",
    "    \n",
    "    test['pred'] = pred\n",
    "    test_accuracy_.append(sum(test['survived'] == test['pred'])/test.shape[0])"
   ]
  },
  {
   "cell_type": "code",
   "execution_count": 11,
   "id": "b0b90d94-9be1-411c-a58b-08ed2b16c5d7",
   "metadata": {},
   "outputs": [
    {
     "data": {
      "image/png": "[encoded data removed]",
      "text/plain": [
       "<Figure size 432x288 with 1 Axes>"
      ]
     },
     "metadata": {
      "needs_background": "light"
     },
     "output_type": "display_data"
    }
   ],
   "source": [
    "plt.figure()\n",
    "plt.hist(train_accuracy_, label = 'Train', alpha=0.5)\n",
    "plt.hist(test_accuracy_, label = 'Test', alpha=0.5)\n",
    "plt.legend()\n",
    "plt.show()"
   ]
  },
  {
   "cell_type": "code",
   "execution_count": 12,
   "id": "97f11888-5e0e-40fe-bc2d-9d85983f10f3",
   "metadata": {},
   "outputs": [
    {
     "name": "stdout",
     "output_type": "stream",
     "text": [
      "0.8230402553054056 0.816554818305194\n"
     ]
    }
   ],
   "source": [
    "print(np.mean(train_accuracy_), np.mean(test_accuracy_))"
   ]
  },
  {
   "cell_type": "code",
   "execution_count": null,
   "id": "8398266b-9493-4cac-8e99-7ad919131b70",
   "metadata": {},
   "outputs": [],
   "source": []
  }
 ],
 "metadata": {
  "kernelspec": {
   "display_name": "Python 3 (ipykernel)",
   "language": "python",
   "name": "python3"
  },
  "language_info": {
   "codemirror_mode": {
    "name": "ipython",
    "version": 3
   },
   "file_extension": ".py",
   "mimetype": "text/x-python",
   "name": "python",
   "nbconvert_exporter": "python",
   "pygments_lexer": "ipython3",
   "version": "3.10.4"
  }
 },
 "nbformat": 4,
 "nbformat_minor": 5
}
