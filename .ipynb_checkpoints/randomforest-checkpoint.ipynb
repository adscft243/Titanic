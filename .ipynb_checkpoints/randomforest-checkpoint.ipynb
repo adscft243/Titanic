{
 "cells": [
  {
   "cell_type": "markdown",
   "metadata": {},
   "source": [
    "### We use logistic regression to predict whether a person survived on the Titanic."
   ]
  },
  {
   "cell_type": "code",
   "execution_count": 1,
   "metadata": {},
   "outputs": [],
   "source": [
    "import pandas as pd\n",
    "import numpy as np\n",
    "import matplotlib.pyplot as plt\n",
    "from sklearn import tree\n",
    "from sklearn.linear_model import LogisticRegression\n",
    "from sklearn.metrics import confusion_matrix, accuracy_score\n",
    "#from sklearn.metrics import (precision_recall_curve, PrecisionRecallDisplay)"
   ]
  },
  {
   "cell_type": "code",
   "execution_count": 2,
   "metadata": {},
   "outputs": [],
   "source": [
    "train = pd.read_csv('train2.csv')\n",
    "test = pd.read_csv('test2.csv')"
   ]
  },
  {
   "cell_type": "code",
   "execution_count": 4,
   "metadata": {},
   "outputs": [
    {
     "name": "stdout",
     "output_type": "stream",
     "text": [
      "(891, 4) (891,)\n"
     ]
    }
   ],
   "source": [
    "#variables = ['Pclass_2', 'Pclass_3', 'Sex', 'Age', 'HasFamily', 'Embarked_Q', 'Embarked_S', 'FareOverHundred']\n",
    "variables = ['AgeBin', 'Sex', 'Pclass', 'HasRelatives']\n",
    "#variables = ['AgeBin', 'Sex']\n",
    "y = train['Survived']\n",
    "X = np.array(train[variables])\n",
    "print(X.shape, y.shape)"
   ]
  },
  {
   "cell_type": "code",
   "execution_count": 5,
   "metadata": {},
   "outputs": [],
   "source": [
    "Xtest = np.array(test[variables])\n",
    "testlabeled = test[variables].copy()"
   ]
  },
  {
   "cell_type": "code",
   "execution_count": 6,
   "metadata": {},
   "outputs": [
    {
     "name": "stdout",
     "output_type": "stream",
     "text": [
      "0.797979797979798\n"
     ]
    }
   ],
   "source": [
    "clf = LogisticRegression(random_state = 1, C = 0.6, max_iter = 500).fit(X, y)\n",
    "print(clf.score(X, y))"
   ]
  },
  {
   "cell_type": "code",
   "execution_count": 7,
   "metadata": {},
   "outputs": [
    {
     "data": {
      "text/plain": [
       "LogisticRegression(C=0.6, class_weight=None, dual=False, fit_intercept=True,\n",
       "                   intercept_scaling=1, l1_ratio=None, max_iter=500,\n",
       "                   multi_class='auto', n_jobs=None, penalty='l2',\n",
       "                   random_state=1, solver='lbfgs', tol=0.0001, verbose=0,\n",
       "                   warm_start=False)"
      ]
     },
     "execution_count": 7,
     "metadata": {},
     "output_type": "execute_result"
    }
   ],
   "source": [
    "clf.fit(X, y)"
   ]
  },
  {
   "cell_type": "markdown",
   "metadata": {},
   "source": [
    "#### The training accuracy is only 80%. "
   ]
  },
  {
   "cell_type": "code",
   "execution_count": 72,
   "metadata": {},
   "outputs": [],
   "source": [
    "pred1 = clf1.predict(Xtest)"
   ]
  },
  {
   "cell_type": "code",
   "execution_count": 73,
   "metadata": {},
   "outputs": [
    {
     "data": {
      "text/html": [
       "<div>\n",
       "<style scoped>\n",
       "    .dataframe tbody tr th:only-of-type {\n",
       "        vertical-align: middle;\n",
       "    }\n",
       "\n",
       "    .dataframe tbody tr th {\n",
       "        vertical-align: top;\n",
       "    }\n",
       "\n",
       "    .dataframe thead th {\n",
       "        text-align: right;\n",
       "    }\n",
       "</style>\n",
       "<table border=\"1\" class=\"dataframe\">\n",
       "  <thead>\n",
       "    <tr style=\"text-align: right;\">\n",
       "      <th></th>\n",
       "      <th>AgeBin</th>\n",
       "      <th>Sex</th>\n",
       "      <th>Pclass</th>\n",
       "      <th>HasFamily</th>\n",
       "      <th>Survived1</th>\n",
       "    </tr>\n",
       "  </thead>\n",
       "  <tbody>\n",
       "    <tr>\n",
       "      <th>0</th>\n",
       "      <td>1</td>\n",
       "      <td>1</td>\n",
       "      <td>3</td>\n",
       "      <td>0</td>\n",
       "      <td>0</td>\n",
       "    </tr>\n",
       "    <tr>\n",
       "      <th>1</th>\n",
       "      <td>1</td>\n",
       "      <td>0</td>\n",
       "      <td>3</td>\n",
       "      <td>1</td>\n",
       "      <td>1</td>\n",
       "    </tr>\n",
       "    <tr>\n",
       "      <th>2</th>\n",
       "      <td>1</td>\n",
       "      <td>1</td>\n",
       "      <td>2</td>\n",
       "      <td>0</td>\n",
       "      <td>0</td>\n",
       "    </tr>\n",
       "    <tr>\n",
       "      <th>3</th>\n",
       "      <td>1</td>\n",
       "      <td>1</td>\n",
       "      <td>3</td>\n",
       "      <td>0</td>\n",
       "      <td>0</td>\n",
       "    </tr>\n",
       "    <tr>\n",
       "      <th>4</th>\n",
       "      <td>1</td>\n",
       "      <td>0</td>\n",
       "      <td>3</td>\n",
       "      <td>1</td>\n",
       "      <td>1</td>\n",
       "    </tr>\n",
       "  </tbody>\n",
       "</table>\n",
       "</div>"
      ],
      "text/plain": [
       "   AgeBin  Sex  Pclass  HasFamily  Survived1\n",
       "0       1    1       3          0          0\n",
       "1       1    0       3          1          1\n",
       "2       1    1       2          0          0\n",
       "3       1    1       3          0          0\n",
       "4       1    0       3          1          1"
      ]
     },
     "execution_count": 73,
     "metadata": {},
     "output_type": "execute_result"
    }
   ],
   "source": [
    "testlabeled['Survived1'] = pred1\n",
    "testlabeled.head()"
   ]
  },
  {
   "cell_type": "code",
   "execution_count": 74,
   "metadata": {},
   "outputs": [
    {
     "data": {
      "text/html": [
       "<div>\n",
       "<style scoped>\n",
       "    .dataframe tbody tr th:only-of-type {\n",
       "        vertical-align: middle;\n",
       "    }\n",
       "\n",
       "    .dataframe tbody tr th {\n",
       "        vertical-align: top;\n",
       "    }\n",
       "\n",
       "    .dataframe thead th {\n",
       "        text-align: right;\n",
       "    }\n",
       "</style>\n",
       "<table border=\"1\" class=\"dataframe\">\n",
       "  <thead>\n",
       "    <tr style=\"text-align: right;\">\n",
       "      <th></th>\n",
       "      <th>Survived1</th>\n",
       "    </tr>\n",
       "    <tr>\n",
       "      <th>Sex</th>\n",
       "      <th></th>\n",
       "    </tr>\n",
       "  </thead>\n",
       "  <tbody>\n",
       "    <tr>\n",
       "      <th>0</th>\n",
       "      <td>1.000000</td>\n",
       "    </tr>\n",
       "    <tr>\n",
       "      <th>1</th>\n",
       "      <td>0.003759</td>\n",
       "    </tr>\n",
       "  </tbody>\n",
       "</table>\n",
       "</div>"
      ],
      "text/plain": [
       "     Survived1\n",
       "Sex           \n",
       "0     1.000000\n",
       "1     0.003759"
      ]
     },
     "execution_count": 74,
     "metadata": {},
     "output_type": "execute_result"
    }
   ],
   "source": [
    "testlabeled.groupby('Sex').agg({'Survived1': 'mean'})"
   ]
  },
  {
   "cell_type": "code",
   "execution_count": 51,
   "metadata": {},
   "outputs": [],
   "source": [
    "submission = pd.read_csv('gender_submission.csv')\n",
    "submission['Survived'] = pred1\n",
    "submission.to_csv('submission1.csv', index = False)"
   ]
  },
  {
   "cell_type": "markdown",
   "metadata": {},
   "source": [
    "### We now try to implement a decision tree."
   ]
  },
  {
   "cell_type": "code",
   "execution_count": 75,
   "metadata": {},
   "outputs": [
    {
     "data": {
      "text/plain": [
       "DecisionTreeClassifier(ccp_alpha=0, class_weight=None, criterion='entropy',\n",
       "                       max_depth=None, max_features='auto', max_leaf_nodes=None,\n",
       "                       min_impurity_decrease=0, min_impurity_split=None,\n",
       "                       min_samples_leaf=1, min_samples_split=2,\n",
       "                       min_weight_fraction_leaf=0.0, presort='deprecated',\n",
       "                       random_state=None, splitter='best')"
      ]
     },
     "execution_count": 75,
     "metadata": {},
     "output_type": "execute_result"
    }
   ],
   "source": [
    "clf2 = tree.DecisionTreeClassifier(ccp_alpha = 0, max_features = 'auto', criterion = 'entropy', \n",
    "                                   min_impurity_decrease = 0)\n",
    "clf2.fit(X, y)"
   ]
  },
  {
   "cell_type": "code",
   "execution_count": 76,
   "metadata": {},
   "outputs": [],
   "source": [
    "pred2 = clf2.predict(Xtest)\n",
    "testlabeled['Survived2'] = pred2"
   ]
  },
  {
   "cell_type": "code",
   "execution_count": 77,
   "metadata": {},
   "outputs": [
    {
     "data": {
      "text/html": [
       "<div>\n",
       "<style scoped>\n",
       "    .dataframe tbody tr th:only-of-type {\n",
       "        vertical-align: middle;\n",
       "    }\n",
       "\n",
       "    .dataframe tbody tr th {\n",
       "        vertical-align: top;\n",
       "    }\n",
       "\n",
       "    .dataframe thead th {\n",
       "        text-align: right;\n",
       "    }\n",
       "</style>\n",
       "<table border=\"1\" class=\"dataframe\">\n",
       "  <thead>\n",
       "    <tr style=\"text-align: right;\">\n",
       "      <th></th>\n",
       "      <th>Survived2</th>\n",
       "    </tr>\n",
       "    <tr>\n",
       "      <th>Sex</th>\n",
       "      <th></th>\n",
       "    </tr>\n",
       "  </thead>\n",
       "  <tbody>\n",
       "    <tr>\n",
       "      <th>0</th>\n",
       "      <td>0.822368</td>\n",
       "    </tr>\n",
       "    <tr>\n",
       "      <th>1</th>\n",
       "      <td>0.003759</td>\n",
       "    </tr>\n",
       "  </tbody>\n",
       "</table>\n",
       "</div>"
      ],
      "text/plain": [
       "     Survived2\n",
       "Sex           \n",
       "0     0.822368\n",
       "1     0.003759"
      ]
     },
     "execution_count": 77,
     "metadata": {},
     "output_type": "execute_result"
    }
   ],
   "source": [
    "testlabeled.groupby('Sex').agg({'Survived2': 'mean'})"
   ]
  },
  {
   "cell_type": "code",
   "execution_count": 78,
   "metadata": {},
   "outputs": [
    {
     "name": "stdout",
     "output_type": "stream",
     "text": [
      "0.8215488215488216\n"
     ]
    }
   ],
   "source": [
    "error = np.mean(np.abs(clf2.predict(X) - y))\n",
    "print(1 - error)"
   ]
  },
  {
   "cell_type": "code",
   "execution_count": 79,
   "metadata": {},
   "outputs": [
    {
     "data": {
      "text/plain": [
       "[Text(162.32727272727274, 199.32, 'X[1] <= 0.5\\nentropy = 0.961\\nsamples = 891\\nvalue = [549, 342]'),\n",
       " Text(93.84545454545456, 163.07999999999998, 'X[2] <= 2.5\\nentropy = 0.824\\nsamples = 314\\nvalue = [81, 233]'),\n",
       " Text(45.654545454545456, 126.83999999999999, 'X[0] <= 0.5\\nentropy = 0.299\\nsamples = 170\\nvalue = [9, 161]'),\n",
       " Text(20.290909090909093, 90.6, 'X[2] <= 1.5\\nentropy = 0.65\\nsamples = 6\\nvalue = [1, 5]'),\n",
       " Text(10.145454545454546, 54.359999999999985, 'entropy = 0.0\\nsamples = 1\\nvalue = [1, 0]'),\n",
       " Text(30.436363636363637, 54.359999999999985, 'entropy = 0.0\\nsamples = 5\\nvalue = [0, 5]'),\n",
       " Text(71.01818181818183, 90.6, 'X[3] <= 0.5\\nentropy = 0.281\\nsamples = 164\\nvalue = [8, 156]'),\n",
       " Text(50.727272727272734, 54.359999999999985, 'X[2] <= 1.5\\nentropy = 0.33\\nsamples = 66\\nvalue = [4, 62]'),\n",
       " Text(40.581818181818186, 18.119999999999976, 'entropy = 0.191\\nsamples = 34\\nvalue = [1, 33]'),\n",
       " Text(60.872727272727275, 18.119999999999976, 'entropy = 0.449\\nsamples = 32\\nvalue = [3, 29]'),\n",
       " Text(91.30909090909091, 54.359999999999985, 'X[2] <= 1.5\\nentropy = 0.246\\nsamples = 98\\nvalue = [4, 94]'),\n",
       " Text(81.16363636363637, 18.119999999999976, 'entropy = 0.124\\nsamples = 59\\nvalue = [1, 58]'),\n",
       " Text(101.45454545454547, 18.119999999999976, 'entropy = 0.391\\nsamples = 39\\nvalue = [3, 36]'),\n",
       " Text(142.03636363636366, 126.83999999999999, 'X[3] <= 0.5\\nentropy = 1.0\\nsamples = 144\\nvalue = [72, 72]'),\n",
       " Text(121.74545454545455, 90.6, 'X[0] <= 0.5\\nentropy = 0.96\\nsamples = 60\\nvalue = [23, 37]'),\n",
       " Text(111.60000000000001, 54.359999999999985, 'entropy = 0.0\\nsamples = 1\\nvalue = [0, 1]'),\n",
       " Text(131.8909090909091, 54.359999999999985, 'entropy = 0.965\\nsamples = 59\\nvalue = [23, 36]'),\n",
       " Text(162.32727272727274, 90.6, 'X[0] <= 0.5\\nentropy = 0.98\\nsamples = 84\\nvalue = [49, 35]'),\n",
       " Text(152.1818181818182, 54.359999999999985, 'entropy = 0.863\\nsamples = 14\\nvalue = [4, 10]'),\n",
       " Text(172.4727272727273, 54.359999999999985, 'entropy = 0.94\\nsamples = 70\\nvalue = [45, 25]'),\n",
       " Text(230.80909090909094, 163.07999999999998, 'X[2] <= 1.5\\nentropy = 0.699\\nsamples = 577\\nvalue = [468, 109]'),\n",
       " Text(192.76363636363638, 126.83999999999999, 'X[0] <= 0.5\\nentropy = 0.95\\nsamples = 122\\nvalue = [77, 45]'),\n",
       " Text(182.61818181818182, 90.6, 'entropy = 0.0\\nsamples = 2\\nvalue = [0, 2]'),\n",
       " Text(202.90909090909093, 90.6, 'X[3] <= 0.5\\nentropy = 0.941\\nsamples = 120\\nvalue = [77, 43]'),\n",
       " Text(192.76363636363638, 54.359999999999985, 'entropy = 0.918\\nsamples = 75\\nvalue = [50, 25]'),\n",
       " Text(213.05454545454546, 54.359999999999985, 'entropy = 0.971\\nsamples = 45\\nvalue = [27, 18]'),\n",
       " Text(268.8545454545455, 126.83999999999999, 'X[0] <= 0.5\\nentropy = 0.586\\nsamples = 455\\nvalue = [391, 64]'),\n",
       " Text(243.4909090909091, 90.6, 'X[2] <= 2.5\\nentropy = 0.959\\nsamples = 21\\nvalue = [8, 13]'),\n",
       " Text(233.34545454545457, 54.359999999999985, 'entropy = 0.0\\nsamples = 8\\nvalue = [0, 8]'),\n",
       " Text(253.63636363636365, 54.359999999999985, 'entropy = 0.961\\nsamples = 13\\nvalue = [8, 5]'),\n",
       " Text(294.21818181818185, 90.6, 'X[2] <= 2.5\\nentropy = 0.522\\nsamples = 434\\nvalue = [383, 51]'),\n",
       " Text(273.92727272727274, 54.359999999999985, 'X[3] <= 0.5\\nentropy = 0.436\\nsamples = 100\\nvalue = [91, 9]'),\n",
       " Text(263.7818181818182, 18.119999999999976, 'entropy = 0.46\\nsamples = 72\\nvalue = [65, 7]'),\n",
       " Text(284.0727272727273, 18.119999999999976, 'entropy = 0.371\\nsamples = 28\\nvalue = [26, 2]'),\n",
       " Text(314.50909090909096, 54.359999999999985, 'X[3] <= 0.5\\nentropy = 0.546\\nsamples = 334\\nvalue = [292, 42]'),\n",
       " Text(304.3636363636364, 18.119999999999976, 'entropy = 0.533\\nsamples = 264\\nvalue = [232, 32]'),\n",
       " Text(324.6545454545455, 18.119999999999976, 'entropy = 0.592\\nsamples = 70\\nvalue = [60, 10]')]"
      ]
     },
     "execution_count": 79,
     "metadata": {},
     "output_type": "execute_result"
    },
    {
     "data": {
      "image/png": "[encoded data removed]",
      "text/plain": [
       "<Figure size 432x288 with 1 Axes>"
      ]
     },
     "metadata": {
      "needs_background": "light"
     },
     "output_type": "display_data"
    }
   ],
   "source": [
    "tree.plot_tree(clf2)"
   ]
  },
  {
   "cell_type": "code",
   "execution_count": 45,
   "metadata": {},
   "outputs": [],
   "source": [
    "#import graphviz \n",
    "#dot_data = tree.export_graphviz(clf2, out_file = None) \n",
    "#graph = graphviz.Source(dot_data) \n",
    "#graph.render(\"titanic\")"
   ]
  },
  {
   "cell_type": "code",
   "execution_count": 80,
   "metadata": {},
   "outputs": [
    {
     "name": "stdout",
     "output_type": "stream",
     "text": [
      "|--- feature_1 <= 0.50\n",
      "|   |--- feature_2 <= 2.50\n",
      "|   |   |--- feature_0 <= 0.50\n",
      "|   |   |   |--- feature_2 <= 1.50\n",
      "|   |   |   |   |--- class: 0\n",
      "|   |   |   |--- feature_2 >  1.50\n",
      "|   |   |   |   |--- class: 1\n",
      "|   |   |--- feature_0 >  0.50\n",
      "|   |   |   |--- feature_3 <= 0.50\n",
      "|   |   |   |   |--- feature_2 <= 1.50\n",
      "|   |   |   |   |   |--- class: 1\n",
      "|   |   |   |   |--- feature_2 >  1.50\n",
      "|   |   |   |   |   |--- class: 1\n",
      "|   |   |   |--- feature_3 >  0.50\n",
      "|   |   |   |   |--- feature_2 <= 1.50\n",
      "|   |   |   |   |   |--- class: 1\n",
      "|   |   |   |   |--- feature_2 >  1.50\n",
      "|   |   |   |   |   |--- class: 1\n",
      "|   |--- feature_2 >  2.50\n",
      "|   |   |--- feature_3 <= 0.50\n",
      "|   |   |   |--- feature_0 <= 0.50\n",
      "|   |   |   |   |--- class: 1\n",
      "|   |   |   |--- feature_0 >  0.50\n",
      "|   |   |   |   |--- class: 1\n",
      "|   |   |--- feature_3 >  0.50\n",
      "|   |   |   |--- feature_0 <= 0.50\n",
      "|   |   |   |   |--- class: 1\n",
      "|   |   |   |--- feature_0 >  0.50\n",
      "|   |   |   |   |--- class: 0\n",
      "|--- feature_1 >  0.50\n",
      "|   |--- feature_2 <= 1.50\n",
      "|   |   |--- feature_0 <= 0.50\n",
      "|   |   |   |--- class: 1\n",
      "|   |   |--- feature_0 >  0.50\n",
      "|   |   |   |--- feature_3 <= 0.50\n",
      "|   |   |   |   |--- class: 0\n",
      "|   |   |   |--- feature_3 >  0.50\n",
      "|   |   |   |   |--- class: 0\n",
      "|   |--- feature_2 >  1.50\n",
      "|   |   |--- feature_0 <= 0.50\n",
      "|   |   |   |--- feature_2 <= 2.50\n",
      "|   |   |   |   |--- class: 1\n",
      "|   |   |   |--- feature_2 >  2.50\n",
      "|   |   |   |   |--- class: 0\n",
      "|   |   |--- feature_0 >  0.50\n",
      "|   |   |   |--- feature_2 <= 2.50\n",
      "|   |   |   |   |--- feature_3 <= 0.50\n",
      "|   |   |   |   |   |--- class: 0\n",
      "|   |   |   |   |--- feature_3 >  0.50\n",
      "|   |   |   |   |   |--- class: 0\n",
      "|   |   |   |--- feature_2 >  2.50\n",
      "|   |   |   |   |--- feature_3 <= 0.50\n",
      "|   |   |   |   |   |--- class: 0\n",
      "|   |   |   |   |--- feature_3 >  0.50\n",
      "|   |   |   |   |   |--- class: 0\n",
      "\n"
     ]
    }
   ],
   "source": [
    "from sklearn.tree import export_text\n",
    "r = export_text(clf2)\n",
    "print(r)"
   ]
  },
  {
   "cell_type": "code",
   "execution_count": 81,
   "metadata": {},
   "outputs": [],
   "source": [
    "submission = pd.read_csv('gender_submission.csv')\n",
    "submission['Survived'] = pred2\n",
    "submission.to_csv('submission2.csv', index = False)"
   ]
  },
  {
   "cell_type": "markdown",
   "metadata": {},
   "source": [
    "### We try a random forest."
   ]
  },
  {
   "cell_type": "code",
   "execution_count": 57,
   "metadata": {},
   "outputs": [],
   "source": [
    "from sklearn.ensemble import RandomForestClassifier"
   ]
  },
  {
   "cell_type": "code",
   "execution_count": 58,
   "metadata": {},
   "outputs": [],
   "source": [
    "clf3 = RandomForestClassifier(max_depth = 4, random_state = 0)"
   ]
  },
  {
   "cell_type": "code",
   "execution_count": 59,
   "metadata": {},
   "outputs": [
    {
     "data": {
      "text/plain": [
       "RandomForestClassifier(bootstrap=True, ccp_alpha=0.0, class_weight=None,\n",
       "                       criterion='gini', max_depth=4, max_features='auto',\n",
       "                       max_leaf_nodes=None, max_samples=None,\n",
       "                       min_impurity_decrease=0.0, min_impurity_split=None,\n",
       "                       min_samples_leaf=1, min_samples_split=2,\n",
       "                       min_weight_fraction_leaf=0.0, n_estimators=100,\n",
       "                       n_jobs=None, oob_score=False, random_state=0, verbose=0,\n",
       "                       warm_start=False)"
      ]
     },
     "execution_count": 59,
     "metadata": {},
     "output_type": "execute_result"
    }
   ],
   "source": [
    "clf3.fit(X, y)"
   ]
  },
  {
   "cell_type": "code",
   "execution_count": 60,
   "metadata": {},
   "outputs": [],
   "source": [
    "pred3 = clf3.predict(Xtest)\n",
    "testlabeled['Survived3'] = pred3;"
   ]
  },
  {
   "cell_type": "code",
   "execution_count": 61,
   "metadata": {},
   "outputs": [
    {
     "data": {
      "text/plain": [
       "0.8338945005611672"
      ]
     },
     "execution_count": 61,
     "metadata": {},
     "output_type": "execute_result"
    }
   ],
   "source": [
    "clf3.score(X, y)"
   ]
  },
  {
   "cell_type": "markdown",
   "metadata": {},
   "source": [
    "### Submission"
   ]
  },
  {
   "cell_type": "code",
   "execution_count": 62,
   "metadata": {},
   "outputs": [],
   "source": [
    "submission = pd.read_csv('gender_submission.csv')\n",
    "submission['Survived'] = pred3\n",
    "submission.to_csv('submission3.csv', index = False)"
   ]
  },
  {
   "cell_type": "code",
   "execution_count": 63,
   "metadata": {},
   "outputs": [
    {
     "name": "stdout",
     "output_type": "stream",
     "text": [
      "84\n",
      "63\n",
      "41\n"
     ]
    }
   ],
   "source": [
    "print(sum(testlabeled['Survived1'] != testlabeled['Survived2']))\n",
    "print(sum(testlabeled['Survived2'] != testlabeled['Survived3']))\n",
    "print(sum(testlabeled['Survived3'] != testlabeled['Survived1']))"
   ]
  },
  {
   "cell_type": "code",
   "execution_count": null,
   "metadata": {},
   "outputs": [],
   "source": []
  }
 ],
 "metadata": {
  "kernelspec": {
   "display_name": "Python 3",
   "language": "python",
   "name": "python3"
  },
  "language_info": {
   "codemirror_mode": {
    "name": "ipython",
    "version": 3
   },
   "file_extension": ".py",
   "mimetype": "text/x-python",
   "name": "python",
   "nbconvert_exporter": "python",
   "pygments_lexer": "ipython3",
   "version": "3.7.6"
  }
 },
 "nbformat": 4,
 "nbformat_minor": 4
}
